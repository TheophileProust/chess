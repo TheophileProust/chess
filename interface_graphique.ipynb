{
 "cells": [
  {
   "cell_type": "code",
   "execution_count": 2,
   "metadata": {},
   "outputs": [
    {
     "data": {
      "application/vnd.jupyter.widget-view+json": {
       "model_id": "542ff2d34f1446baaeaf28f2935f43d5",
       "version_major": 2,
       "version_minor": 0
      },
      "text/plain": [
       "Canvas(height=400, width=400)"
      ]
     },
     "metadata": {},
     "output_type": "display_data"
    }
   ],
   "source": [
    "from ipycanvas import Canvas\n",
    "from IPython.display import display\n",
    "\n",
    "canvas = Canvas(width=400, height=400)\n",
    "\n",
    "def dessiner_echiquier():\n",
    "    taille_case = 50\n",
    "    for i in range(8):\n",
    "        for j in range(8):\n",
    "            couleur = 'white' if (i + j) % 2 == 0 else 'black'\n",
    "            canvas.fill_style = couleur\n",
    "            canvas.fill_rect(i * taille_case, j * taille_case, taille_case, taille_case)\n",
    "\n",
    "dessiner_echiquier()\n",
    "\n",
    "display(canvas)\n"
   ]
  },
  {
   "cell_type": "code",
   "execution_count": 3,
   "metadata": {},
   "outputs": [
    {
     "data": {
      "application/vnd.jupyter.widget-view+json": {
       "model_id": "be1dfce16ce643fda3fa02db54cca695",
       "version_major": 2,
       "version_minor": 0
      },
      "text/plain": [
       "Canvas(height=400, width=400)"
      ]
     },
     "execution_count": 3,
     "metadata": {},
     "output_type": "execute_result"
    }
   ],
   "source": [
    "from ipycanvas import Canvas\n",
    "\n",
    "# Crée un canvas pour dessiner\n",
    "canvas = Canvas(width=400, height=400)\n",
    "\n",
    "# Dessine un échiquier (comme précédemment)\n",
    "def dessiner_echiquier():\n",
    "    taille_case = 50\n",
    "    for i in range(8):\n",
    "        for j in range(8):\n",
    "            if (i + j) % 2 == 0:\n",
    "                couleur = 'white'\n",
    "            else:\n",
    "                couleur = 'black'\n",
    "            canvas.fill_style = couleur\n",
    "            canvas.fill_rect(i * taille_case, j * taille_case, taille_case, taille_case)\n",
    "\n",
    "dessiner_echiquier()\n",
    "\n",
    "# Ajouter un pion rouge sur l'échiquier avec un clic\n",
    "def on_mouse_down(x, y):\n",
    "    taille_case = 50\n",
    "    i = int(x // taille_case)\n",
    "    j = int(y // taille_case)\n",
    "    canvas.fill_style = 'red'\n",
    "    canvas.fill_rect(i * taille_case, j * taille_case, taille_case, taille_case)\n",
    "\n",
    "# Connecte l'événement de clic au canvas\n",
    "canvas.on_mouse_down(on_mouse_down)\n",
    "\n",
    "canvas\n",
    "\n"
   ]
  },
  {
   "cell_type": "code",
   "execution_count": 4,
   "metadata": {},
   "outputs": [
    {
     "data": {
      "application/vnd.jupyter.widget-view+json": {
       "model_id": "be1dfce16ce643fda3fa02db54cca695",
       "version_major": 2,
       "version_minor": 0
      },
      "text/plain": [
       "Canvas(height=400, width=400)"
      ]
     },
     "execution_count": 4,
     "metadata": {},
     "output_type": "execute_result"
    }
   ],
   "source": [
    "taille_case = 50\n",
    "\n",
    "def dessiner_echiquier():\n",
    "    taille_case = 50\n",
    "    for i in range(8):\n",
    "        for j in range(8):\n",
    "            if (i + j) % 2 == 0:\n",
    "                couleur = 'white'\n",
    "            else:\n",
    "                couleur = 'black'\n",
    "            canvas.fill_style = couleur\n",
    "            canvas.fill_rect(i * taille_case, j * taille_case, taille_case, taille_case)\n",
    "\n",
    "\n",
    "\n",
    "\n",
    "\n",
    "\n",
    "def dessiner_piece(piece, x, y):\n",
    "    # Centrer la pièce dans la case\n",
    "    canvas.fill_style = \"red\"  # Choisir une couleur ou une forme pour la pièce\n",
    "    canvas.fill_text(piece, x * taille_case + taille_case // 4, y * taille_case + taille_case // 1.5)\n",
    "\n",
    "dessiner_echiquier()\n",
    "\n",
    "dessiner_piece(\"K Blanc\", 3, 7)\n",
    "dessiner_piece(\"T noir\", 0, 0)\n",
    "dessiner_piece(\"T noir\", 7, 0)\n",
    "dessiner_piece(\"T blanc\", 0, 7)\n",
    "dessiner_piece(\"T blanc\", 7, 7)\n",
    "canvas\n",
    "    "
   ]
  },
  {
   "cell_type": "code",
   "execution_count": 5,
   "metadata": {},
   "outputs": [
    {
     "data": {
      "application/vnd.jupyter.widget-view+json": {
       "model_id": "7825551d9e224486b3bae4f4974ed318",
       "version_major": 2,
       "version_minor": 0
      },
      "text/plain": [
       "Canvas(height=400, width=400)"
      ]
     },
     "execution_count": 5,
     "metadata": {},
     "output_type": "execute_result"
    }
   ],
   "source": [
    "import ipycanvas\n",
    "import ipywidgets as widgets\n",
    "import os\n",
    "\n",
    "# Dimensions de l'échiquier\n",
    "taille_case = 50\n",
    "echiquier_size = 8  # 8x8\n",
    "chemin_images = \"chess_images\"  # Remplace par ton chemin d'accès aux images des pièces\n",
    "\n",
    "# Création du canvas\n",
    "canvas = ipycanvas.Canvas(width=taille_case*echiquier_size, height=taille_case*echiquier_size)\n",
    "\n",
    "# Fonction pour dessiner l'échiquier\n",
    "def dessiner_echiquier():\n",
    "    for y in range(echiquier_size):\n",
    "        for x in range(echiquier_size):\n",
    "            color = \"white\" if (x + y) % 2 == 0 else \"grey\"\n",
    "            canvas.fill_style = color\n",
    "            canvas.fill_rect(x*taille_case, y*taille_case, taille_case, taille_case)\n",
    "\n",
    "\n",
    "def dessiner_piece_image(image_path, x, y):\n",
    "    with open(image_path, \"rb\") as file:\n",
    "        image = widgets.Image(value=file.read(), format='png')  # Chargement en tant qu'Image widget\n",
    "    canvas.draw_image(image, x * taille_case, y * taille_case, taille_case, taille_case)\n",
    "\n",
    "# Initialisation de l'échiquier\n",
    "dessiner_echiquier()\n",
    "\n",
    "# Charger et afficher des pièces\n",
    "dessiner_piece_image(os.path.join(chemin_images, 'bN.png'), 6, 0)\n",
    "dessiner_piece_image(os.path.join(chemin_images, 'bN.png'), 1, 0) \n",
    "dessiner_piece_image(os.path.join(chemin_images, 'bR.png'), 0, 0)  \n",
    "dessiner_piece_image(os.path.join(chemin_images, 'bR.png'), 7, 0) \n",
    "dessiner_piece_image(os.path.join(chemin_images, 'bB.png'), 2, 0)\n",
    "dessiner_piece_image(os.path.join(chemin_images, 'bB.png'), 5, 0)\n",
    "dessiner_piece_image(os.path.join(chemin_images, 'bK.png'), 4, 0)\n",
    "dessiner_piece_image(os.path.join(chemin_images, 'bQ.png'), 3, 0)\n",
    "dessiner_piece_image(os.path.join(chemin_images, 'bP.png'), 0, 1)\n",
    "dessiner_piece_image(os.path.join(chemin_images, 'bP.png'), 1, 1)\n",
    "dessiner_piece_image(os.path.join(chemin_images, 'bP.png'), 2, 1)\n",
    "dessiner_piece_image(os.path.join(chemin_images, 'bP.png'), 3, 1)\n",
    "dessiner_piece_image(os.path.join(chemin_images, 'bP.png'), 4, 1)\n",
    "dessiner_piece_image(os.path.join(chemin_images, 'bP.png'), 5, 1)\n",
    "dessiner_piece_image(os.path.join(chemin_images, 'bP.png'), 6, 1)\n",
    "dessiner_piece_image(os.path.join(chemin_images, 'bP.png'), 7, 1)\n",
    "\n",
    "dessiner_piece_image(os.path.join(chemin_images, 'wN.png'), 6, 7)\n",
    "dessiner_piece_image(os.path.join(chemin_images, 'wN.png'), 1, 7) \n",
    "dessiner_piece_image(os.path.join(chemin_images, 'wR.png'), 0, 7)  \n",
    "dessiner_piece_image(os.path.join(chemin_images, 'wR.png'), 7, 7) \n",
    "dessiner_piece_image(os.path.join(chemin_images, 'wB.png'), 2, 7)\n",
    "dessiner_piece_image(os.path.join(chemin_images, 'wB.png'), 5, 7)\n",
    "dessiner_piece_image(os.path.join(chemin_images, 'wK.png'), 4, 7)\n",
    "dessiner_piece_image(os.path.join(chemin_images, 'wQ.png'), 3, 7)\n",
    "dessiner_piece_image(os.path.join(chemin_images, 'wP.png'), 0, 6)\n",
    "dessiner_piece_image(os.path.join(chemin_images, 'wP.png'), 1, 6)\n",
    "dessiner_piece_image(os.path.join(chemin_images, 'wP.png'), 2, 6)\n",
    "dessiner_piece_image(os.path.join(chemin_images, 'wP.png'), 3, 6)\n",
    "dessiner_piece_image(os.path.join(chemin_images, 'wP.png'), 4, 6)\n",
    "dessiner_piece_image(os.path.join(chemin_images, 'wP.png'), 5, 6)\n",
    "dessiner_piece_image(os.path.join(chemin_images, 'wP.png'), 6, 6)\n",
    "dessiner_piece_image(os.path.join(chemin_images, 'wP.png'), 7, 6)\n",
    "# Afficher le canvas\n",
    "canvas\n",
    "\n"
   ]
  },
  {
   "cell_type": "code",
   "execution_count": 6,
   "metadata": {},
   "outputs": [
    {
     "data": {
      "application/vnd.jupyter.widget-view+json": {
       "model_id": "7825551d9e224486b3bae4f4974ed318",
       "version_major": 2,
       "version_minor": 0
      },
      "text/plain": [
       "Canvas(height=400, width=400)"
      ]
     },
     "execution_count": 6,
     "metadata": {},
     "output_type": "execute_result"
    }
   ],
   "source": [
    "def dessiner_echiquier_debut():\n",
    "    dessiner_echiquier()\n",
    "    dessiner_piece_image(os.path.join(chemin_images, 'bN.png'), 6, 0)\n",
    "dessiner_piece_image(os.path.join(chemin_images, 'bN.png'), 1, 0) \n",
    "dessiner_piece_image(os.path.join(chemin_images, 'bR.png'), 0, 0)  \n",
    "dessiner_piece_image(os.path.join(chemin_images, 'bR.png'), 7, 0) \n",
    "dessiner_piece_image(os.path.join(chemin_images, 'bB.png'), 2, 0)\n",
    "dessiner_piece_image(os.path.join(chemin_images, 'bB.png'), 5, 0)\n",
    "dessiner_piece_image(os.path.join(chemin_images, 'bK.png'), 4, 0)\n",
    "dessiner_piece_image(os.path.join(chemin_images, 'bQ.png'), 3, 0)\n",
    "dessiner_piece_image(os.path.join(chemin_images, 'bP.png'), 0, 1)\n",
    "dessiner_piece_image(os.path.join(chemin_images, 'bP.png'), 1, 1)\n",
    "dessiner_piece_image(os.path.join(chemin_images, 'bP.png'), 2, 1)\n",
    "dessiner_piece_image(os.path.join(chemin_images, 'bP.png'), 3, 1)\n",
    "dessiner_piece_image(os.path.join(chemin_images, 'bP.png'), 4, 1)\n",
    "dessiner_piece_image(os.path.join(chemin_images, 'bP.png'), 5, 1)\n",
    "dessiner_piece_image(os.path.join(chemin_images, 'bP.png'), 6, 1)\n",
    "dessiner_piece_image(os.path.join(chemin_images, 'bP.png'), 7, 1)\n",
    "\n",
    "dessiner_piece_image(os.path.join(chemin_images, 'wN.png'), 6, 7)\n",
    "dessiner_piece_image(os.path.join(chemin_images, 'wN.png'), 1, 7) \n",
    "dessiner_piece_image(os.path.join(chemin_images, 'wR.png'), 0, 7)  \n",
    "dessiner_piece_image(os.path.join(chemin_images, 'wR.png'), 7, 7) \n",
    "dessiner_piece_image(os.path.join(chemin_images, 'wB.png'), 2, 7)\n",
    "dessiner_piece_image(os.path.join(chemin_images, 'wB.png'), 5, 7)\n",
    "dessiner_piece_image(os.path.join(chemin_images, 'wK.png'), 4, 7)\n",
    "dessiner_piece_image(os.path.join(chemin_images, 'wQ.png'), 3, 7)\n",
    "dessiner_piece_image(os.path.join(chemin_images, 'wP.png'), 0, 6)\n",
    "dessiner_piece_image(os.path.join(chemin_images, 'wP.png'), 1, 6)\n",
    "dessiner_piece_image(os.path.join(chemin_images, 'wP.png'), 2, 6)\n",
    "dessiner_piece_image(os.path.join(chemin_images, 'wP.png'), 3, 6)\n",
    "dessiner_piece_image(os.path.join(chemin_images, 'wP.png'), 4, 6)\n",
    "dessiner_piece_image(os.path.join(chemin_images, 'wP.png'), 5, 6)\n",
    "dessiner_piece_image(os.path.join(chemin_images, 'wP.png'), 6, 6)\n",
    "dessiner_piece_image(os.path.join(chemin_images, 'wP.png'), 7, 6)\n",
    "\n",
    "canvas\n",
    "    "
   ]
  },
  {
   "cell_type": "code",
   "execution_count": 7,
   "metadata": {},
   "outputs": [],
   "source": [
    "import chess.pgn\n",
    "\n",
    "def charger_partie_pgn(fichier_pgn):\n",
    "    with open(fichier_pgn, \"r\") as pgn:\n",
    "        partie = chess.pgn.read_game(pgn)\n",
    "    return list(partie.mainline_moves()) "
   ]
  },
  {
   "cell_type": "code",
   "execution_count": 8,
   "metadata": {},
   "outputs": [
    {
     "name": "stdout",
     "output_type": "stream",
     "text": [
      "[Move.from_uci('g2g3'), Move.from_uci('e7e5'), Move.from_uci('f2f4'), Move.from_uci('d7d6'), Move.from_uci('g1f3'), Move.from_uci('b8c6'), Move.from_uci('d2d4'), Move.from_uci('e5f4'), Move.from_uci('d4d5'), Move.from_uci('c6e5'), Move.from_uci('g3f4'), Move.from_uci('e5f3'), Move.from_uci('e2f3'), Move.from_uci('g8f6'), Move.from_uci('f1h3'), Move.from_uci('c8h3'), Move.from_uci('b1c3'), Move.from_uci('d8e7'), Move.from_uci('c3e4'), Move.from_uci('e8c8'), Move.from_uci('c2c3'), Move.from_uci('g7g6'), Move.from_uci('c1e3'), Move.from_uci('f6e4'), Move.from_uci('f3e4'), Move.from_uci('e7e4'), Move.from_uci('d1d2'), Move.from_uci('e4h1'), Move.from_uci('e1e2'), Move.from_uci('h1a1'), Move.from_uci('d2d4'), Move.from_uci('a1f1'), Move.from_uci('e2d2'), Move.from_uci('f1g2'), Move.from_uci('d2d3'), Move.from_uci('g2h2'), Move.from_uci('d4a7'), Move.from_uci('c7c6'), Move.from_uci('d5c6'), Move.from_uci('b7c6'), Move.from_uci('a7a6'), Move.from_uci('c8d7'), Move.from_uci('a6b7'), Move.from_uci('d7e8'), Move.from_uci('b7c6'), Move.from_uci('d8d7'), Move.from_uci('c6c8'), Move.from_uci('e8e7'), Move.from_uci('f4f5'), Move.from_uci('h3f5'), Move.from_uci('d3d4'), Move.from_uci('h2h4'), Move.from_uci('d4d5'), Move.from_uci('h4e4')]\n"
     ]
    }
   ],
   "source": [
    "pgn_path =  \"Loowolf_vs_TelophileGOAT_2025.02.19.pgn\"\n",
    "\n",
    "\n",
    " \n",
    "\n",
    "partie = charger_partie_pgn(pgn_path)\n",
    "print(partie) "
   ]
  },
  {
   "cell_type": "code",
   "execution_count": 9,
   "metadata": {},
   "outputs": [],
   "source": [
    "import chess \n",
    "\n",
    "echiquier = chess.Board()  # Crée l'échiquier initial\n",
    "\n",
    "def appliquer_coup(coup):\n",
    "    global echiquier\n",
    "    echiquier.push(coup)  # Joue le coup\n",
    "    \n",
    "\n",
    "\n",
    "\n",
    "    # Redessiner l’échiquier\n",
    "    dessiner_echiquier()\n",
    "\n",
    "    # Afficher les pièces\n",
    "    for case in chess.SQUARES:\n",
    "        piece = echiquier.piece_at(case)\n",
    "        if piece:\n",
    "            image_name = f\"{'w' if piece.color else 'b'}{piece.symbol().upper()}.png\"\n",
    "            dessiner_piece(os.path.join(chemin_images, image_name), chess.square_file(case), 7 - chess.square_rank(case))\n"
   ]
  },
  {
   "cell_type": "code",
   "execution_count": 10,
   "metadata": {},
   "outputs": [],
   "source": [
    "def rejouer_partie(fichier_pgn):\n",
    "    global echiquier\n",
    "    echiquier = chess.Board()  # Réinitialise l'échiquier\n",
    "    coups = charger_partie_pgn(fichier_pgn)\n",
    "\n",
    "    for coup in coups:\n",
    "        appliquer_coup(coup)\n",
    "        input(\"Appuyez sur Entrée pour voir le prochain coup.\")\n",
    "        "
   ]
  },
  {
   "cell_type": "code",
   "execution_count": null,
   "metadata": {},
   "outputs": [],
   "source": [
    "rejouer_partie('Loowolf_vs_TelophileGOAT_2025.02.19.pgn')"
   ]
  },
  {
   "cell_type": "code",
   "execution_count": null,
   "metadata": {},
   "outputs": [],
   "source": [
    "def appliquer_coup(coup):\n",
    "    global echiquier  # Utilisation de l'échiquier global\n",
    "\n",
    "    if coup in echiquier.legal_moves:  # Vérifie que le coup est valide\n",
    "        piece_moving = echiquier.piece_at(coup.from_square)  # Trouve la pièce qui bouge\n",
    "        echiquier.push(coup)  # Applique le coup sur l'échiquier\n",
    "\n",
    "        # Conversion des coordonnées échiquier → canvas\n",
    "        from_x = chess.square_file(coup.from_square)  # Colonne (0-7)\n",
    "        from_y = 7 - chess.square_rank(coup.from_square)  # Ligne (0-7)\n",
    "        to_x = chess.square_file(coup.to_square)\n",
    "        to_y = 7 - chess.square_rank(coup.to_square)\n",
    "\n",
    "        # Mettre à jour l'affichage de la pièce déplacée\n",
    "        dessiner_piece_image()\n",
    "\n",
    "    else:\n",
    "        print(\"Coup invalide !\")  # Message d'erreur\n",
    "\n",
    "\n"
   ]
  },
  {
   "cell_type": "markdown",
   "metadata": {},
   "source": [
    "# toutes les defs"
   ]
  },
  {
   "cell_type": "code",
   "execution_count": 2,
   "metadata": {},
   "outputs": [
    {
     "ename": "NameError",
     "evalue": "name 'dessiner_piece_image' is not defined",
     "output_type": "error",
     "traceback": [
      "\u001b[0;31m---------------------------------------------------------------------------\u001b[0m",
      "\u001b[0;31mNameError\u001b[0m                                 Traceback (most recent call last)",
      "Cell \u001b[0;32mIn[2], line 60\u001b[0m\n\u001b[1;32m     55\u001b[0m         \u001b[38;5;28minput\u001b[39m(\u001b[38;5;124m\"\u001b[39m\u001b[38;5;124mAppuyez sur Entrée pour voir le prochain coup.\u001b[39m\u001b[38;5;124m\"\u001b[39m)\n\u001b[1;32m     58\u001b[0m \u001b[38;5;66;03m#teste\u001b[39;00m\n\u001b[0;32m---> 60\u001b[0m \u001b[43mrejouer_partie\u001b[49m\u001b[43m(\u001b[49m\u001b[38;5;124;43m'\u001b[39;49m\u001b[38;5;124;43mLoowolf_vs_TelophileGOAT_2025.02.19.pgn\u001b[39;49m\u001b[38;5;124;43m'\u001b[39;49m\u001b[43m)\u001b[49m\n",
      "Cell \u001b[0;32mIn[2], line 54\u001b[0m, in \u001b[0;36mrejouer_partie\u001b[0;34m(fichier_pgn)\u001b[0m\n\u001b[1;32m     51\u001b[0m coups \u001b[38;5;241m=\u001b[39m charger_partie_pgn(fichier_pgn)\n\u001b[1;32m     53\u001b[0m \u001b[38;5;28;01mfor\u001b[39;00m coup \u001b[38;5;129;01min\u001b[39;00m coups:\n\u001b[0;32m---> 54\u001b[0m     \u001b[43mappliquer_coup\u001b[49m\u001b[43m(\u001b[49m\u001b[43mcoup\u001b[49m\u001b[43m)\u001b[49m\n\u001b[1;32m     55\u001b[0m     \u001b[38;5;28minput\u001b[39m(\u001b[38;5;124m\"\u001b[39m\u001b[38;5;124mAppuyez sur Entrée pour voir le prochain coup.\u001b[39m\u001b[38;5;124m\"\u001b[39m)\n",
      "Cell \u001b[0;32mIn[2], line 45\u001b[0m, in \u001b[0;36mappliquer_coup\u001b[0;34m(coup)\u001b[0m\n\u001b[1;32m     43\u001b[0m \u001b[38;5;28;01mif\u001b[39;00m coup \u001b[38;5;129;01min\u001b[39;00m echiquier\u001b[38;5;241m.\u001b[39mlegal_moves:  \u001b[38;5;66;03m# Vérifie si le coup est valide\u001b[39;00m\n\u001b[1;32m     44\u001b[0m     echiquier\u001b[38;5;241m.\u001b[39mpush(coup)  \u001b[38;5;66;03m# Applique le coup\u001b[39;00m\n\u001b[0;32m---> 45\u001b[0m     \u001b[43mmettre_a_jour_echiquier\u001b[49m\u001b[43m(\u001b[49m\u001b[43m)\u001b[49m\n",
      "Cell \u001b[0;32mIn[2], line 38\u001b[0m, in \u001b[0;36mmettre_a_jour_echiquier\u001b[0;34m()\u001b[0m\n\u001b[1;32m     36\u001b[0m x, y \u001b[38;5;241m=\u001b[39m chess\u001b[38;5;241m.\u001b[39msquare_file(case), \u001b[38;5;241m7\u001b[39m \u001b[38;5;241m-\u001b[39m chess\u001b[38;5;241m.\u001b[39msquare_rank(case)  \u001b[38;5;66;03m# Conversion en coordonnées\u001b[39;00m\n\u001b[1;32m     37\u001b[0m image_path \u001b[38;5;241m=\u001b[39m os\u001b[38;5;241m.\u001b[39mpath\u001b[38;5;241m.\u001b[39mjoin(chemin_images, \u001b[38;5;124mf\u001b[39m\u001b[38;5;124m\"\u001b[39m\u001b[38;5;132;01m{\u001b[39;00m\u001b[38;5;124m'\u001b[39m\u001b[38;5;124mw\u001b[39m\u001b[38;5;124m'\u001b[39m\u001b[38;5;250m \u001b[39m\u001b[38;5;28;01mif\u001b[39;00m\u001b[38;5;250m \u001b[39mpiece\u001b[38;5;241m.\u001b[39mcolor\u001b[38;5;250m \u001b[39m\u001b[38;5;28;01melse\u001b[39;00m\u001b[38;5;250m \u001b[39m\u001b[38;5;124m'\u001b[39m\u001b[38;5;124mb\u001b[39m\u001b[38;5;124m'\u001b[39m\u001b[38;5;132;01m}\u001b[39;00m\u001b[38;5;132;01m{\u001b[39;00mpiece\u001b[38;5;241m.\u001b[39msymbol()\u001b[38;5;241m.\u001b[39mupper()\u001b[38;5;132;01m}\u001b[39;00m\u001b[38;5;124m.png\u001b[39m\u001b[38;5;124m\"\u001b[39m)\n\u001b[0;32m---> 38\u001b[0m \u001b[43mdessiner_piece_image\u001b[49m(image_path, x, y)\n",
      "\u001b[0;31mNameError\u001b[0m: name 'dessiner_piece_image' is not defined"
     ]
    }
   ],
   "source": [
    "import ipycanvas\n",
    "import ipywidgets as widgets\n",
    "import os\n",
    "import chess.pgn\n",
    "\n",
    "# Dimensions de l'échiquier\n",
    "taille_case = 50\n",
    "echiquier_size = 8  # 8x8\n",
    "chemin_images = \"chess_images\"  # Remplace par ton chemin d'accès aux images des pièces\n",
    "\n",
    "# Création du canvas\n",
    "canvas = ipycanvas.Canvas(width=taille_case*echiquier_size, height=taille_case*echiquier_size)\n",
    "\n",
    "def dessiner_echiquier():\n",
    "    for y in range(echiquier_size):\n",
    "        for x in range(echiquier_size):\n",
    "            color = \"white\" if (x + y) % 2 == 0 else \"grey\"\n",
    "            canvas.fill_style = color\n",
    "            canvas.fill_rect(x*taille_case, y*taille_case, taille_case, taille_case)\n",
    "\n",
    "\n",
    "def charger_partie_pgn(fichier_pgn):\n",
    "    with open(fichier_pgn, \"r\") as pgn:\n",
    "        partie = chess.pgn.read_game(pgn)\n",
    "    return list(partie.mainline_moves())\n",
    "\n",
    "\n",
    "\n",
    "def mettre_a_jour_echiquier():\n",
    "    canvas.clear()  # Effacer l'ancien affichage\n",
    "    dessiner_echiquier()  # Redessiner l'échiquier\n",
    "    \n",
    "    for case in chess.SQUARES:\n",
    "        piece = echiquier.piece_at(case)  # Récupère la pièce à cette position\n",
    "        if piece:\n",
    "            x, y = chess.square_file(case), 7 - chess.square_rank(case)  # Conversion en coordonnées\n",
    "            image_path = os.path.join(chemin_images, f\"{'w' if piece.color else 'b'}{piece.symbol().upper()}.png\")\n",
    "            dessiner_piece_image(image_path, x, y)\n",
    "\n",
    "\n",
    "def appliquer_coup(coup):\n",
    "    global echiquier\n",
    "    if coup in echiquier.legal_moves:  # Vérifie si le coup est valide\n",
    "        echiquier.push(coup)  # Applique le coup\n",
    "        mettre_a_jour_echiquier()  # Mettre à jour l'affichage\n",
    "\n",
    "\n",
    "def rejouer_partie(fichier_pgn):\n",
    "    global echiquier\n",
    "    echiquier = chess.Board()  # Réinitialise l'échiquier\n",
    "    coups = charger_partie_pgn(fichier_pgn)\n",
    "\n",
    "    for coup in coups:\n",
    "        appliquer_coup(coup)\n",
    "        input(\"Appuyez sur Entrée pour voir le prochain coup.\")\n",
    "\n",
    "\n",
    "#teste\n",
    "\n",
    "rejouer_partie('Loowolf_vs_TelophileGOAT_2025.02.19.pgn')"
   ]
  },
  {
   "cell_type": "code",
   "execution_count": 15,
   "metadata": {},
   "outputs": [],
   "source": [
    "import chess.pgn\n",
    "\n",
    "def charger_partie_pgn(fichier_pgn):\n",
    "    with open(fichier_pgn, \"r\") as pgn:\n",
    "        partie = chess.pgn.read_game(pgn)\n",
    "    return list(partie.mainline_moves()) "
   ]
  },
  {
   "cell_type": "code",
   "execution_count": 16,
   "metadata": {},
   "outputs": [],
   "source": [
    "def mettre_a_jour_echiquier():\n",
    "    canvas.clear()  # Effacer l'ancien affichage\n",
    "    dessiner_echiquier()  # Redessiner l'échiquier\n",
    "    \n",
    "    for case in chess.SQUARES:\n",
    "        piece = echiquier.piece_at(case)  # Récupère la pièce à cette position\n",
    "        if piece:\n",
    "            x, y = chess.square_file(case), 7 - chess.square_rank(case)  # Conversion en coordonnées\n",
    "            image_path = os.path.join(chemin_images, f\"{'w' if piece.color else 'b'}{piece.symbol().upper()}.png\")\n",
    "            dessiner_piece_image(image_path, x, y)\n"
   ]
  },
  {
   "cell_type": "code",
   "execution_count": 17,
   "metadata": {},
   "outputs": [],
   "source": [
    "def appliquer_coup(coup):\n",
    "    global echiquier\n",
    "    if coup in echiquier.legal_moves:  # Vérifie si le coup est valide\n",
    "        echiquier.push(coup)  # Applique le coup\n",
    "        mettre_a_jour_echiquier()  # Mettre à jour l'affichage\n"
   ]
  },
  {
   "cell_type": "code",
   "execution_count": 18,
   "metadata": {},
   "outputs": [],
   "source": [
    "def dessiner_piece_image(image_path, x, y):\n",
    "    with open(image_path, \"rb\") as file:\n",
    "        image = widgets.Image(value=file.read(), format='png')  # Chargement en tant qu'Image widget\n",
    "    canvas.draw_image(image, x * taille_case, y * taille_case, taille_case, taille_case)\n"
   ]
  },
  {
   "cell_type": "code",
   "execution_count": 19,
   "metadata": {},
   "outputs": [],
   "source": [
    "def dessiner_echiquier():\n",
    "    for y in range(echiquier_size):\n",
    "        for x in range(echiquier_size):\n",
    "            color = \"white\" if (x + y) % 2 == 0 else \"grey\"\n",
    "            canvas.fill_style = color\n",
    "            canvas.fill_rect(x*taille_case, y*taille_case, taille_case, taille_case)\n"
   ]
  },
  {
   "cell_type": "code",
   "execution_count": 26,
   "metadata": {},
   "outputs": [],
   "source": [
    "def dessiner_echiquier_debut():\n",
    "    \n",
    "    dessiner_echiquier()\n",
    "    dessiner_piece_image(os.path.join(chemin_images, 'bN.png'), 6, 0)\n",
    "    dessiner_piece_image(os.path.join(chemin_images, 'bN.png'), 1, 0) \n",
    "    dessiner_piece_image(os.path.join(chemin_images, 'bR.png'), 0, 0)  \n",
    "    dessiner_piece_image(os.path.join(chemin_images, 'bR.png'), 7, 0) \n",
    "    dessiner_piece_image(os.path.join(chemin_images, 'bB.png'), 2, 0)\n",
    "    dessiner_piece_image(os.path.join(chemin_images, 'bB.png'), 5, 0)\n",
    "    dessiner_piece_image(os.path.join(chemin_images, 'bK.png'), 4, 0)\n",
    "    dessiner_piece_image(os.path.join(chemin_images, 'bQ.png'), 3, 0)\n",
    "    dessiner_piece_image(os.path.join(chemin_images, 'bP.png'), 0, 1)\n",
    "    dessiner_piece_image(os.path.join(chemin_images, 'bP.png'), 1, 1)\n",
    "    dessiner_piece_image(os.path.join(chemin_images, 'bP.png'), 2, 1)\n",
    "    dessiner_piece_image(os.path.join(chemin_images, 'bP.png'), 3, 1)\n",
    "    dessiner_piece_image(os.path.join(chemin_images, 'bP.png'), 4, 1)\n",
    "    dessiner_piece_image(os.path.join(chemin_images, 'bP.png'), 5, 1)\n",
    "    dessiner_piece_image(os.path.join(chemin_images, 'bP.png'), 6, 1)\n",
    "    dessiner_piece_image(os.path.join(chemin_images, 'bP.png'), 7, 1)\n",
    "\n",
    "    dessiner_piece_image(os.path.join(chemin_images, 'wN.png'), 6, 7)\n",
    "    dessiner_piece_image(os.path.join(chemin_images, 'wN.png'), 1, 7) \n",
    "    dessiner_piece_image(os.path.join(chemin_images, 'wR.png'), 0, 7)  \n",
    "    dessiner_piece_image(os.path.join(chemin_images, 'wR.png'), 7, 7) \n",
    "    dessiner_piece_image(os.path.join(chemin_images, 'wB.png'), 2, 7)\n",
    "    dessiner_piece_image(os.path.join(chemin_images, 'wB.png'), 5, 7)\n",
    "    dessiner_piece_image(os.path.join(chemin_images, 'wK.png'), 4, 7)\n",
    "    dessiner_piece_image(os.path.join(chemin_images, 'wQ.png'), 3, 7)\n",
    "    dessiner_piece_image(os.path.join(chemin_images, 'wP.png'), 0, 6)\n",
    "    dessiner_piece_image(os.path.join(chemin_images, 'wP.png'), 1, 6)\n",
    "    dessiner_piece_image(os.path.join(chemin_images, 'wP.png'), 2, 6)\n",
    "    dessiner_piece_image(os.path.join(chemin_images, 'wP.png'), 3, 6)\n",
    "    dessiner_piece_image(os.path.join(chemin_images, 'wP.png'), 4, 6)\n",
    "    dessiner_piece_image(os.path.join(chemin_images, 'wP.png'), 5, 6)\n",
    "    dessiner_piece_image(os.path.join(chemin_images, 'wP.png'), 6, 6)\n",
    "    dessiner_piece_image(os.path.join(chemin_images, 'wP.png'), 7, 6)\n",
    "\n",
    "    "
   ]
  },
  {
   "cell_type": "code",
   "execution_count": 24,
   "metadata": {},
   "outputs": [],
   "source": [
    "dessiner_echiquier_debut()"
   ]
  },
  {
   "cell_type": "code",
   "execution_count": 27,
   "metadata": {},
   "outputs": [],
   "source": [
    "def rejouer_partie(fichier_pgn):\n",
    "    global echiquier\n",
    "    echiquier = chess.Board()  # Réinitialise l'échiquier\n",
    "    coups = charger_partie_pgn(fichier_pgn)\n",
    "\n",
    "    for coup in coups:\n",
    "        appliquer_coup(coup)\n",
    "        input(\"Appuyez sur Entrée pour voir le prochain coup.\")\n",
    "        "
   ]
  },
  {
   "cell_type": "code",
   "execution_count": null,
   "metadata": {},
   "outputs": [],
   "source": [
    "rejouer_partie('Loowolf_vs_TelophileGOAT_2025.02.19.pgn')"
   ]
  },
  {
   "cell_type": "markdown",
   "metadata": {},
   "source": [
    "# BON CODE \n"
   ]
  },
  {
   "cell_type": "code",
   "execution_count": 3,
   "metadata": {},
   "outputs": [
    {
     "data": {
      "application/vnd.jupyter.widget-view+json": {
       "model_id": "db87cb5afd134f9fa64184824a6072cf",
       "version_major": 2,
       "version_minor": 0
      },
      "text/plain": [
       "Canvas(height=400, width=400)"
      ]
     },
     "metadata": {},
     "output_type": "display_data"
    },
    {
     "data": {
      "application/vnd.jupyter.widget-view+json": {
       "model_id": "486a6c175b31454bac7562c0c72bd2aa",
       "version_major": 2,
       "version_minor": 0
      },
      "text/plain": [
       "Button(description='Coup suivant', style=ButtonStyle())"
      ]
     },
     "metadata": {},
     "output_type": "display_data"
    },
    {
     "data": {
      "application/vnd.jupyter.widget-view+json": {
       "model_id": "f254e6afcf2d4b0aa2f6f42d8bb296b9",
       "version_major": 2,
       "version_minor": 0
      },
      "text/plain": [
       "Button(description='Coup precedent', style=ButtonStyle())"
      ]
     },
     "metadata": {},
     "output_type": "display_data"
    }
   ],
   "source": [
    "import ipycanvas\n",
    "import ipywidgets as widgets\n",
    "import os\n",
    "import chess\n",
    "import chess.pgn\n",
    "\n",
    "\n",
    "taille_case = 50\n",
    "echiquier_size = 8  \n",
    "chemin_images = \"chess_images\"\n",
    "\n",
    "canvas = ipycanvas.Canvas(width=taille_case * echiquier_size, height=taille_case * echiquier_size)\n",
    "display(canvas)  \n",
    "\n",
    "\n",
    "echiquier = chess.Board()\n",
    "\n",
    "\n",
    "def charger_partie_pgn(fichier_pgn):\n",
    "    with open(fichier_pgn, \"r\") as pgn:\n",
    "        partie = chess.pgn.read_game(pgn)\n",
    "    return list(partie.mainline_moves())\n",
    "\n",
    "\n",
    "def dessiner_echiquier():\n",
    "    for y in range(echiquier_size):\n",
    "        for x in range(echiquier_size):\n",
    "            color = \"white\" if (x + y) % 2 == 0 else \"grey\"\n",
    "            canvas.fill_style = color\n",
    "            canvas.fill_rect(x * taille_case, y * taille_case, taille_case, taille_case)\n",
    "\n",
    "\n",
    "def dessiner_piece_image(image_path, x, y):\n",
    "    if os.path.exists(image_path):  \n",
    "        with open(image_path, \"rb\") as file:\n",
    "            image = widgets.Image(value=file.read(), format='png')  \n",
    "        canvas.draw_image(image, x * taille_case, y * taille_case, taille_case, taille_case)\n",
    "\n",
    "\n",
    "def mettre_a_jour_echiquier():\n",
    "    canvas.clear()  \n",
    "    dessiner_echiquier()  \n",
    "    \n",
    "    for case in chess.SQUARES:\n",
    "        piece = echiquier.piece_at(case) \n",
    "        if piece:\n",
    "            x, y = chess.square_file(case), 7 - chess.square_rank(case)  \n",
    "            image_path = os.path.join(chemin_images, f\"{'w' if piece.color else 'b'}{piece.symbol().upper()}.png\")\n",
    "            dessiner_piece_image(image_path, x, y)\n",
    "\n",
    "# Appliquer un coup sur l'échiquier\n",
    "def appliquer_coup(coup):\n",
    "    global echiquier\n",
    "    move = chess.Move.from_uci(str(coup))  # uci car besoin de convertir en co pour ipycanvas\n",
    "    if move in echiquier.legal_moves:  \n",
    "        echiquier.push(move) \n",
    "        mettre_a_jour_echiquier()  \n",
    "\n",
    "\n",
    "coups = []\n",
    "indice_coup = 0\n",
    "\n",
    "def jouer_prochain_coup(b):\n",
    "    global indice_coup\n",
    "    if indice_coup < len(coups):\n",
    "        appliquer_coup(coups[indice_coup])\n",
    "        indice_coup += 1\n",
    "\n",
    "    \n",
    "def jouer_ancien_coup(b):\n",
    "    global indice_coup\n",
    "    if indice_coup > 0:  \n",
    "        echiquier.pop()  \n",
    "        indice_coup -= 1  \n",
    "        mettre_a_jour_echiquier() \n",
    "\n",
    "def rejouer_partie(fichier_pgn):\n",
    "    global echiquier, coups, indice_coup\n",
    "    echiquier = chess.Board()  \n",
    "    coups = charger_partie_pgn(fichier_pgn)\n",
    "    indice_coup = 0\n",
    "    mettre_a_jour_echiquier()\n",
    "\n",
    "    # Bouton pour avancer les coups\n",
    "    bouton_suivant = widgets.Button(description=\"Coup suivant\")\n",
    "    bouton_suivant.on_click(jouer_prochain_coup)\n",
    "    bouton_precedent = widgets.Button(description=\"Coup precedent\")\n",
    "    bouton_precedent.on_click(jouer_ancien_coup)\n",
    "    display(bouton_suivant)\n",
    "    display(bouton_precedent)\n",
    "\n",
    "# Lancer la partie\n",
    "rejouer_partie('Loowolf_vs_TelophileGOAT_2025.02.19.pgn')\n"
   ]
  },
  {
   "cell_type": "code",
   "execution_count": null,
   "metadata": {},
   "outputs": [],
   "source": []
  }
 ],
 "metadata": {
  "kernelspec": {
   "display_name": "Python 3",
   "language": "python",
   "name": "python3"
  },
  "language_info": {
   "codemirror_mode": {
    "name": "ipython",
    "version": 3
   },
   "file_extension": ".py",
   "mimetype": "text/x-python",
   "name": "python",
   "nbconvert_exporter": "python",
   "pygments_lexer": "ipython3",
   "version": "3.12.1"
  }
 },
 "nbformat": 4,
 "nbformat_minor": 2
}
