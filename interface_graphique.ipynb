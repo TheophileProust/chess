{
 "cells": [
  {
   "cell_type": "code",
   "execution_count": 20,
   "metadata": {},
   "outputs": [
    {
     "data": {
      "application/vnd.jupyter.widget-view+json": {
       "model_id": "db49e08665c54c71a3c3d65d7a6b76a5",
       "version_major": 2,
       "version_minor": 0
      },
      "text/plain": [
       "Canvas(height=400, width=400)"
      ]
     },
     "metadata": {},
     "output_type": "display_data"
    }
   ],
   "source": [
    "from ipycanvas import Canvas\n",
    "from IPython.display import display\n",
    "\n",
    "canvas = Canvas(width=400, height=400)\n",
    "\n",
    "def dessiner_echiquier():\n",
    "    taille_case = 50\n",
    "    for i in range(8):\n",
    "        for j in range(8):\n",
    "            couleur = 'white' if (i + j) % 2 == 0 else 'black'\n",
    "            canvas.fill_style = couleur\n",
    "            canvas.fill_rect(i * taille_case, j * taille_case, taille_case, taille_case)\n",
    "\n",
    "dessiner_echiquier()\n",
    "\n",
    "display(canvas)\n"
   ]
  },
  {
   "cell_type": "code",
   "execution_count": 1,
   "metadata": {},
   "outputs": [
    {
     "data": {
      "application/vnd.jupyter.widget-view+json": {
       "model_id": "c105c3eeedd94e61ba556cc723937b42",
       "version_major": 2,
       "version_minor": 0
      },
      "text/plain": [
       "Canvas(height=400, width=400)"
      ]
     },
     "execution_count": 1,
     "metadata": {},
     "output_type": "execute_result"
    }
   ],
   "source": [
    "from ipycanvas import Canvas\n",
    "\n",
    "# Crée un canvas pour dessiner\n",
    "canvas = Canvas(width=400, height=400)\n",
    "\n",
    "# Dessine un échiquier (comme précédemment)\n",
    "def dessiner_echiquier():\n",
    "    taille_case = 50\n",
    "    for i in range(8):\n",
    "        for j in range(8):\n",
    "            if (i + j) % 2 == 0:\n",
    "                couleur = 'white'\n",
    "            else:\n",
    "                couleur = 'black'\n",
    "            canvas.fill_style = couleur\n",
    "            canvas.fill_rect(i * taille_case, j * taille_case, taille_case, taille_case)\n",
    "\n",
    "dessiner_echiquier()\n",
    "\n",
    "# Ajouter un pion rouge sur l'échiquier avec un clic\n",
    "def on_mouse_down(x, y):\n",
    "    taille_case = 50\n",
    "    i = int(x // taille_case)\n",
    "    j = int(y // taille_case)\n",
    "    canvas.fill_style = 'red'\n",
    "    canvas.fill_rect(i * taille_case, j * taille_case, taille_case, taille_case)\n",
    "\n",
    "# Connecte l'événement de clic au canvas\n",
    "canvas.on_mouse_down(on_mouse_down)\n",
    "\n",
    "canvas\n",
    "\n"
   ]
  },
  {
   "cell_type": "code",
   "execution_count": 17,
   "metadata": {},
   "outputs": [
    {
     "data": {
      "application/vnd.jupyter.widget-view+json": {
       "model_id": "c105c3eeedd94e61ba556cc723937b42",
       "version_major": 2,
       "version_minor": 0
      },
      "text/plain": [
       "Canvas(height=400, width=400)"
      ]
     },
     "execution_count": 17,
     "metadata": {},
     "output_type": "execute_result"
    }
   ],
   "source": [
    "taille_case = 50\n",
    "\n",
    "def dessiner_echiquier():\n",
    "    taille_case = 50\n",
    "    for i in range(8):\n",
    "        for j in range(8):\n",
    "            if (i + j) % 2 == 0:\n",
    "                couleur = 'white'\n",
    "            else:\n",
    "                couleur = 'black'\n",
    "            canvas.fill_style = couleur\n",
    "            canvas.fill_rect(i * taille_case, j * taille_case, taille_case, taille_case)\n",
    "\n",
    "\n",
    "\n",
    "\n",
    "\n",
    "\n",
    "def dessiner_piece(piece, x, y):\n",
    "    # Centrer la pièce dans la case\n",
    "    canvas.fill_style = \"red\"  # Choisir une couleur ou une forme pour la pièce\n",
    "    canvas.fill_text(piece, x * taille_case + taille_case // 4, y * taille_case + taille_case // 1.5)\n",
    "\n",
    "dessiner_echiquier()\n",
    "\n",
    "dessiner_piece(\"K Blanc\", 3, 7)\n",
    "dessiner_piece(\"T noir\", 0, 0)\n",
    "dessiner_piece(\"T noir\", 7, 0)\n",
    "dessiner_piece(\"T blanc\", 0, 7)\n",
    "dessiner_piece(\"T blanc\", 7, 7)\n",
    "canvas\n",
    "    "
   ]
  },
  {
   "cell_type": "code",
   "execution_count": 18,
   "metadata": {},
   "outputs": [],
   "source": [
    "import os\n",
    "\n",
    "chemin_images = \"chess_images\"\n",
    "\n",
    "def dessiner_piece_image(image_path, x, y):\n",
    "    # Centrer l'image dans la case\n",
    "    canvas.draw_image(image_path, x * taille_case, y * taille_case, taille_case, taille_case)"
   ]
  },
  {
   "cell_type": "code",
   "execution_count": 19,
   "metadata": {},
   "outputs": [
    {
     "ename": "TypeError",
     "evalue": "The image argument should be an Image, a Canvas or a MultiCanvas widget",
     "output_type": "error",
     "traceback": [
      "\u001b[0;31m---------------------------------------------------------------------------\u001b[0m",
      "\u001b[0;31mTypeError\u001b[0m                                 Traceback (most recent call last)",
      "Cell \u001b[0;32mIn[19], line 5\u001b[0m\n\u001b[1;32m      1\u001b[0m dessiner_echiquier()\n\u001b[1;32m      3\u001b[0m \u001b[38;5;66;03m# Placer des pièces sur l'échiquier (utiliser des images)\u001b[39;00m\n\u001b[1;32m      4\u001b[0m \u001b[38;5;66;03m# Exemple : Placer un pion blanc à la position (4, 4)\u001b[39;00m\n\u001b[0;32m----> 5\u001b[0m \u001b[43mdessiner_piece_image\u001b[49m\u001b[43m(\u001b[49m\u001b[43mos\u001b[49m\u001b[38;5;241;43m.\u001b[39;49m\u001b[43mpath\u001b[49m\u001b[38;5;241;43m.\u001b[39;49m\u001b[43mjoin\u001b[49m\u001b[43m(\u001b[49m\u001b[43mchemin_images\u001b[49m\u001b[43m,\u001b[49m\u001b[43m \u001b[49m\u001b[38;5;124;43m'\u001b[39;49m\u001b[38;5;124;43mwP.png\u001b[39;49m\u001b[38;5;124;43m'\u001b[39;49m\u001b[43m)\u001b[49m\u001b[43m,\u001b[49m\u001b[43m \u001b[49m\u001b[38;5;241;43m4\u001b[39;49m\u001b[43m,\u001b[49m\u001b[43m \u001b[49m\u001b[38;5;241;43m4\u001b[39;49m\u001b[43m)\u001b[49m\n\u001b[1;32m      7\u001b[0m \u001b[38;5;66;03m# Placer une tour noire à la position (0, 0)\u001b[39;00m\n\u001b[1;32m      8\u001b[0m dessiner_piece_image(os\u001b[38;5;241m.\u001b[39mpath\u001b[38;5;241m.\u001b[39mjoin(chemin_images, \u001b[38;5;124m'\u001b[39m\u001b[38;5;124mbR.png\u001b[39m\u001b[38;5;124m'\u001b[39m), \u001b[38;5;241m0\u001b[39m, \u001b[38;5;241m0\u001b[39m)\n",
      "Cell \u001b[0;32mIn[18], line 7\u001b[0m, in \u001b[0;36mdessiner_piece_image\u001b[0;34m(image_path, x, y)\u001b[0m\n\u001b[1;32m      5\u001b[0m \u001b[38;5;28;01mdef\u001b[39;00m \u001b[38;5;21mdessiner_piece_image\u001b[39m(image_path, x, y):\n\u001b[1;32m      6\u001b[0m     \u001b[38;5;66;03m# Centrer l'image dans la case\u001b[39;00m\n\u001b[0;32m----> 7\u001b[0m     \u001b[43mcanvas\u001b[49m\u001b[38;5;241;43m.\u001b[39;49m\u001b[43mdraw_image\u001b[49m\u001b[43m(\u001b[49m\u001b[43mimage_path\u001b[49m\u001b[43m,\u001b[49m\u001b[43m \u001b[49m\u001b[43mx\u001b[49m\u001b[43m \u001b[49m\u001b[38;5;241;43m*\u001b[39;49m\u001b[43m \u001b[49m\u001b[43mtaille_case\u001b[49m\u001b[43m,\u001b[49m\u001b[43m \u001b[49m\u001b[43my\u001b[49m\u001b[43m \u001b[49m\u001b[38;5;241;43m*\u001b[39;49m\u001b[43m \u001b[49m\u001b[43mtaille_case\u001b[49m\u001b[43m,\u001b[49m\u001b[43m \u001b[49m\u001b[43mtaille_case\u001b[49m\u001b[43m,\u001b[49m\u001b[43m \u001b[49m\u001b[43mtaille_case\u001b[49m\u001b[43m)\u001b[49m\n",
      "File \u001b[0;32m/usr/local/python/3.12.1/lib/python3.12/site-packages/ipycanvas/canvas.py:1396\u001b[0m, in \u001b[0;36mCanvas.draw_image\u001b[0;34m(self, image, x, y, width, height)\u001b[0m\n\u001b[1;32m   1394\u001b[0m \u001b[38;5;250m\u001b[39m\u001b[38;5;124;03m\"\"\"Draw an ``image`` on the Canvas at the coordinates (``x``, ``y``) and scale it to (``width``, ``height``).\"\"\"\u001b[39;00m\n\u001b[1;32m   1395\u001b[0m \u001b[38;5;28;01mif\u001b[39;00m \u001b[38;5;129;01mnot\u001b[39;00m \u001b[38;5;28misinstance\u001b[39m(image, (Canvas, MultiCanvas, Image)):\n\u001b[0;32m-> 1396\u001b[0m     \u001b[38;5;28;01mraise\u001b[39;00m \u001b[38;5;167;01mTypeError\u001b[39;00m(\n\u001b[1;32m   1397\u001b[0m         \u001b[38;5;124m\"\u001b[39m\u001b[38;5;124mThe image argument should be an Image, a Canvas or a MultiCanvas widget\u001b[39m\u001b[38;5;124m\"\u001b[39m\n\u001b[1;32m   1398\u001b[0m     )\n\u001b[1;32m   1400\u001b[0m \u001b[38;5;28;01mif\u001b[39;00m width \u001b[38;5;129;01mis\u001b[39;00m \u001b[38;5;129;01mnot\u001b[39;00m \u001b[38;5;28;01mNone\u001b[39;00m \u001b[38;5;129;01mand\u001b[39;00m height \u001b[38;5;129;01mis\u001b[39;00m \u001b[38;5;28;01mNone\u001b[39;00m:\n\u001b[1;32m   1401\u001b[0m     height \u001b[38;5;241m=\u001b[39m width\n",
      "\u001b[0;31mTypeError\u001b[0m: The image argument should be an Image, a Canvas or a MultiCanvas widget"
     ]
    }
   ],
   "source": [
    "dessiner_echiquier()\n",
    "\n",
    "# Placer des pièces sur l'échiquier (utiliser des images)\n",
    "# Exemple : Placer un pion blanc à la position (4, 4)\n",
    "dessiner_piece_image(os.path.join(chemin_images, 'wP.png'), 4, 4)\n",
    "\n",
    "# Placer une tour noire à la position (0, 0)\n",
    "dessiner_piece_image(os.path.join(chemin_images, 'bR.png'), 0, 0)\n",
    "\n",
    "# Afficher le canvas\n",
    "canvas"
   ]
  },
  {
   "cell_type": "code",
   "execution_count": null,
   "metadata": {},
   "outputs": [],
   "source": [
    "\n",
    "\n"
   ]
  },
  {
   "cell_type": "code",
   "execution_count": null,
   "metadata": {},
   "outputs": [],
   "source": []
  }
 ],
 "metadata": {
  "kernelspec": {
   "display_name": "Python 3",
   "language": "python",
   "name": "python3"
  },
  "language_info": {
   "codemirror_mode": {
    "name": "ipython",
    "version": 3
   },
   "file_extension": ".py",
   "mimetype": "text/x-python",
   "name": "python",
   "nbconvert_exporter": "python",
   "pygments_lexer": "ipython3",
   "version": "3.12.1"
  }
 },
 "nbformat": 4,
 "nbformat_minor": 2
}
