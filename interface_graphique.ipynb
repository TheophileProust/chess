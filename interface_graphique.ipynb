{
 "cells": [
  {
   "cell_type": "code",
   "execution_count": 3,
   "metadata": {},
   "outputs": [
    {
     "data": {
      "application/vnd.jupyter.widget-view+json": {
       "model_id": "dbcd8f5a95ad4b2a8e85642cfddf17b4",
       "version_major": 2,
       "version_minor": 0
      },
      "text/plain": [
       "Canvas(height=400, width=400)"
      ]
     },
     "metadata": {},
     "output_type": "display_data"
    }
   ],
   "source": [
    "from ipycanvas import Canvas\n",
    "from IPython.display import display\n",
    "\n",
    "canvas = Canvas(width=400, height=400)\n",
    "\n",
    "def dessiner_echiquier():\n",
    "    taille_case = 50\n",
    "    for i in range(8):\n",
    "        for j in range(8):\n",
    "            couleur = 'white' if (i + j) % 2 == 0 else 'black'\n",
    "            canvas.fill_style = couleur\n",
    "            canvas.fill_rect(i * taille_case, j * taille_case, taille_case, taille_case)\n",
    "\n",
    "dessiner_echiquier()\n",
    "\n",
    "display(canvas)\n"
   ]
  },
  {
   "cell_type": "code",
   "execution_count": 4,
   "metadata": {},
   "outputs": [
    {
     "data": {
      "application/vnd.jupyter.widget-view+json": {
       "model_id": "2e8457e57cee421d87377b42ec2f4f27",
       "version_major": 2,
       "version_minor": 0
      },
      "text/plain": [
       "Canvas(height=400, width=400)"
      ]
     },
     "execution_count": 4,
     "metadata": {},
     "output_type": "execute_result"
    }
   ],
   "source": [
    "from ipycanvas import Canvas\n",
    "\n",
    "# Crée un canvas pour dessiner\n",
    "canvas = Canvas(width=400, height=400)\n",
    "\n",
    "# Dessine un échiquier (comme précédemment)\n",
    "def dessiner_echiquier():\n",
    "    taille_case = 50\n",
    "    for i in range(8):\n",
    "        for j in range(8):\n",
    "            if (i + j) % 2 == 0:\n",
    "                couleur = 'white'\n",
    "            else:\n",
    "                couleur = 'black'\n",
    "            canvas.fill_style = couleur\n",
    "            canvas.fill_rect(i * taille_case, j * taille_case, taille_case, taille_case)\n",
    "\n",
    "dessiner_echiquier()\n",
    "\n",
    "# Ajouter un pion rouge sur l'échiquier avec un clic\n",
    "def on_mouse_down(x, y):\n",
    "    taille_case = 50\n",
    "    i = int(x // taille_case)\n",
    "    j = int(y // taille_case)\n",
    "    canvas.fill_style = 'red'\n",
    "    canvas.fill_rect(i * taille_case, j * taille_case, taille_case, taille_case)\n",
    "\n",
    "# Connecte l'événement de clic au canvas\n",
    "canvas.on_mouse_down(on_mouse_down)\n",
    "\n",
    "canvas\n",
    "\n"
   ]
  },
  {
   "cell_type": "code",
   "execution_count": 5,
   "metadata": {},
   "outputs": [
    {
     "data": {
      "application/vnd.jupyter.widget-view+json": {
       "model_id": "2e8457e57cee421d87377b42ec2f4f27",
       "version_major": 2,
       "version_minor": 0
      },
      "text/plain": [
       "Canvas(height=400, width=400)"
      ]
     },
     "execution_count": 5,
     "metadata": {},
     "output_type": "execute_result"
    }
   ],
   "source": [
    "taille_case = 50\n",
    "\n",
    "def dessiner_echiquier():\n",
    "    taille_case = 50\n",
    "    for i in range(8):\n",
    "        for j in range(8):\n",
    "            if (i + j) % 2 == 0:\n",
    "                couleur = 'white'\n",
    "            else:\n",
    "                couleur = 'black'\n",
    "            canvas.fill_style = couleur\n",
    "            canvas.fill_rect(i * taille_case, j * taille_case, taille_case, taille_case)\n",
    "\n",
    "\n",
    "\n",
    "\n",
    "\n",
    "\n",
    "def dessiner_piece(piece, x, y):\n",
    "    # Centrer la pièce dans la case\n",
    "    canvas.fill_style = \"red\"  # Choisir une couleur ou une forme pour la pièce\n",
    "    canvas.fill_text(piece, x * taille_case + taille_case // 4, y * taille_case + taille_case // 1.5)\n",
    "\n",
    "dessiner_echiquier()\n",
    "\n",
    "dessiner_piece(\"K Blanc\", 3, 7)\n",
    "dessiner_piece(\"T noir\", 0, 0)\n",
    "dessiner_piece(\"T noir\", 7, 0)\n",
    "dessiner_piece(\"T blanc\", 0, 7)\n",
    "dessiner_piece(\"T blanc\", 7, 7)\n",
    "canvas\n",
    "    "
   ]
  },
  {
   "cell_type": "code",
   "execution_count": 13,
   "metadata": {},
   "outputs": [
    {
     "data": {
      "application/vnd.jupyter.widget-view+json": {
       "model_id": "93fd8ae281eb4243b4a6579ba8d1e8e0",
       "version_major": 2,
       "version_minor": 0
      },
      "text/plain": [
       "Canvas(height=400, width=400)"
      ]
     },
     "execution_count": 13,
     "metadata": {},
     "output_type": "execute_result"
    }
   ],
   "source": [
    "import ipycanvas\n",
    "import ipywidgets as widgets\n",
    "import os\n",
    "\n",
    "# Dimensions de l'échiquier\n",
    "taille_case = 50\n",
    "echiquier_size = 8  # 8x8\n",
    "chemin_images = \"chess_images\"  # Remplace par ton chemin d'accès aux images des pièces\n",
    "\n",
    "# Création du canvas\n",
    "canvas = ipycanvas.Canvas(width=taille_case*echiquier_size, height=taille_case*echiquier_size)\n",
    "\n",
    "# Fonction pour dessiner l'échiquier\n",
    "def dessiner_echiquier():\n",
    "    for y in range(echiquier_size):\n",
    "        for x in range(echiquier_size):\n",
    "            color = \"white\" if (x + y) % 2 == 0 else \"grey\"\n",
    "            canvas.fill_style = color\n",
    "            canvas.fill_rect(x*taille_case, y*taille_case, taille_case, taille_case)\n",
    "\n",
    "# Fonction pour charger et dessiner une pièce\n",
    "def dessiner_piece_image(image_path, x, y):\n",
    "    with open(image_path, \"rb\") as file:\n",
    "        image = widgets.Image(value=file.read(), format='png')  # Chargement en tant qu'Image widget\n",
    "    canvas.draw_image(image, x * taille_case, y * taille_case, taille_case, taille_case)\n",
    "\n",
    "# Initialisation de l'échiquier\n",
    "dessiner_echiquier()\n",
    "\n",
    "# Charger et afficher des pièces\n",
    "dessiner_piece_image(os.path.join(chemin_images, 'bN.png'), 6, 0)\n",
    "dessiner_piece_image(os.path.join(chemin_images, 'bN.png'), 1, 0) \n",
    "dessiner_piece_image(os.path.join(chemin_images, 'bR.png'), 0, 0)  \n",
    "dessiner_piece_image(os.path.join(chemin_images, 'bR.png'), 7, 0) \n",
    "dessiner_piece_image(os.path.join(chemin_images, 'bB.png'), 2, 0)\n",
    "dessiner_piece_image(os.path.join(chemin_images, 'bB.png'), 5, 0)\n",
    "dessiner_piece_image(os.path.join(chemin_images, 'bK.png'), 4, 0)\n",
    "dessiner_piece_image(os.path.join(chemin_images, 'bQ.png'), 3, 0)\n",
    "dessiner_piece_image(os.path.join(chemin_images, 'bP.png'), 0, 1)\n",
    "dessiner_piece_image(os.path.join(chemin_images, 'bP.png'), 1, 1)\n",
    "dessiner_piece_image(os.path.join(chemin_images, 'bP.png'), 2, 1)\n",
    "dessiner_piece_image(os.path.join(chemin_images, 'bP.png'), 3, 1)\n",
    "dessiner_piece_image(os.path.join(chemin_images, 'bP.png'), 4, 1)\n",
    "dessiner_piece_image(os.path.join(chemin_images, 'bP.png'), 5, 1)\n",
    "dessiner_piece_image(os.path.join(chemin_images, 'bP.png'), 6, 1)\n",
    "dessiner_piece_image(os.path.join(chemin_images, 'bP.png'), 7, 1)\n",
    "\n",
    "dessiner_piece_image(os.path.join(chemin_images, 'wN.png'), 6, 7)\n",
    "dessiner_piece_image(os.path.join(chemin_images, 'wN.png'), 1, 7) \n",
    "dessiner_piece_image(os.path.join(chemin_images, 'wR.png'), 0, 7)  \n",
    "dessiner_piece_image(os.path.join(chemin_images, 'wR.png'), 7, 7) \n",
    "dessiner_piece_image(os.path.join(chemin_images, 'wB.png'), 2, 7)\n",
    "dessiner_piece_image(os.path.join(chemin_images, 'wB.png'), 5, 7)\n",
    "dessiner_piece_image(os.path.join(chemin_images, 'wK.png'), 4, 7)\n",
    "dessiner_piece_image(os.path.join(chemin_images, 'wQ.png'), 3, 7)\n",
    "dessiner_piece_image(os.path.join(chemin_images, 'wP.png'), 0, 6)\n",
    "dessiner_piece_image(os.path.join(chemin_images, 'wP.png'), 1, 6)\n",
    "dessiner_piece_image(os.path.join(chemin_images, 'wP.png'), 2, 6)\n",
    "dessiner_piece_image(os.path.join(chemin_images, 'wP.png'), 3, 6)\n",
    "dessiner_piece_image(os.path.join(chemin_images, 'wP.png'), 4, 6)\n",
    "dessiner_piece_image(os.path.join(chemin_images, 'wP.png'), 5, 6)\n",
    "dessiner_piece_image(os.path.join(chemin_images, 'wP.png'), 6, 6)\n",
    "dessiner_piece_image(os.path.join(chemin_images, 'wP.png'), 7, 6)\n",
    "# Afficher le canvas\n",
    "canvas\n",
    "\n"
   ]
  },
  {
   "cell_type": "code",
   "execution_count": 7,
   "metadata": {},
   "outputs": [],
   "source": [
    "import chess.pgn\n",
    "\n",
    "def charger_partie_pgn(fichier_pgn):\n",
    "    with open(fichier_pgn, \"r\") as pgn:\n",
    "        partie = chess.pgn.read_game(pgn)\n",
    "    return list(partie.mainline_moves()) "
   ]
  },
  {
   "cell_type": "code",
   "execution_count": 8,
   "metadata": {},
   "outputs": [
    {
     "name": "stdout",
     "output_type": "stream",
     "text": [
      "[Move.from_uci('g2g3'), Move.from_uci('e7e5'), Move.from_uci('f2f4'), Move.from_uci('d7d6'), Move.from_uci('g1f3'), Move.from_uci('b8c6'), Move.from_uci('d2d4'), Move.from_uci('e5f4'), Move.from_uci('d4d5'), Move.from_uci('c6e5'), Move.from_uci('g3f4'), Move.from_uci('e5f3'), Move.from_uci('e2f3'), Move.from_uci('g8f6'), Move.from_uci('f1h3'), Move.from_uci('c8h3'), Move.from_uci('b1c3'), Move.from_uci('d8e7'), Move.from_uci('c3e4'), Move.from_uci('e8c8'), Move.from_uci('c2c3'), Move.from_uci('g7g6'), Move.from_uci('c1e3'), Move.from_uci('f6e4'), Move.from_uci('f3e4'), Move.from_uci('e7e4'), Move.from_uci('d1d2'), Move.from_uci('e4h1'), Move.from_uci('e1e2'), Move.from_uci('h1a1'), Move.from_uci('d2d4'), Move.from_uci('a1f1'), Move.from_uci('e2d2'), Move.from_uci('f1g2'), Move.from_uci('d2d3'), Move.from_uci('g2h2'), Move.from_uci('d4a7'), Move.from_uci('c7c6'), Move.from_uci('d5c6'), Move.from_uci('b7c6'), Move.from_uci('a7a6'), Move.from_uci('c8d7'), Move.from_uci('a6b7'), Move.from_uci('d7e8'), Move.from_uci('b7c6'), Move.from_uci('d8d7'), Move.from_uci('c6c8'), Move.from_uci('e8e7'), Move.from_uci('f4f5'), Move.from_uci('h3f5'), Move.from_uci('d3d4'), Move.from_uci('h2h4'), Move.from_uci('d4d5'), Move.from_uci('h4e4')]\n"
     ]
    }
   ],
   "source": [
    "pgn_path =  \"Loowolf_vs_TelophileGOAT_2025.02.19.pgn\"\n",
    "\n",
    "\n",
    " \n",
    "\n",
    "partie = charger_partie_pgn(pgn_path)\n",
    "print(partie) "
   ]
  },
  {
   "cell_type": "code",
   "execution_count": 9,
   "metadata": {},
   "outputs": [],
   "source": [
    "import chess\n",
    "\n",
    "echiquier = chess.Board()  # Crée l'échiquier initial\n",
    "\n",
    "def appliquer_coup(coup):\n",
    "    global echiquier\n",
    "    echiquier.push(coup)  # Joue le coup\n",
    "\n",
    "    # Redessiner l’échiquier\n",
    "    dessiner_echiquier()\n",
    "\n",
    "    # Afficher les pièces\n",
    "    for case in chess.SQUARES:\n",
    "        piece = echiquier.piece_at(case)\n",
    "        if piece:\n",
    "            image_name = f\"{'w' if piece.color else 'b'}{piece.symbol().upper()}.png\"\n",
    "            dessiner_piece(os.path.join(chemin_images, image_name), chess.square_file(case), 7 - chess.square_rank(case))\n"
   ]
  },
  {
   "cell_type": "code",
   "execution_count": 10,
   "metadata": {},
   "outputs": [],
   "source": [
    "def rejouer_partie(fichier_pgn):\n",
    "    global echiquier\n",
    "    echiquier = chess.Board()  # Réinitialise l'échiquier\n",
    "    coups = charger_partie_pgn(fichier_pgn)\n",
    "\n",
    "    for coup in coups:\n",
    "        appliquer_coup(coup)\n",
    "        input(\"Appuyez sur Entrée pour voir le prochain coup.\")\n",
    "        "
   ]
  },
  {
   "cell_type": "code",
   "execution_count": 11,
   "metadata": {},
   "outputs": [],
   "source": [
    "rejouer_partie('Loowolf_vs_TelophileGOAT_2025.02.19.pgn')"
   ]
  },
  {
   "cell_type": "code",
   "execution_count": 17,
   "metadata": {},
   "outputs": [],
   "source": [
    "# Assure-toi que les définitions précédentes existent (dessiner_echiquier, dessiner_piece, appliquer_coup, etc.)\n",
    "import time\n",
    "\n",
    "# Définir le chemin vers ton dossier contenant les images des pièces\n",
    "chemin_images = \"chess_images\"  # Assure-toi que ce dossier existe avec les images correspondantes.\n",
    "\n",
    "# Fonction pour rejouer la partie à partir du fichier PGN\n",
    "def rejouer_partie(fichier_pgn):\n",
    "    global echiquier\n",
    "    echiquier = chess.Board()  # Réinitialise l'échiquier\n",
    "    coups = charger_partie_pgn(fichier_pgn)\n",
    "\n",
    "    for coup in coups:\n",
    "        appliquer_coup(coup)  # Appliquer le coup\n",
    "        time.sleep(1)\n",
    "        #input(\"Appuyez sur Entrée pour voir le prochain coup.\")  # Attendre l'entrée pour le coup suivant\n",
    "\n",
    "# Fonction pour appliquer un coup sur l'échiquier\n",
    "def appliquer_coup(coup):\n",
    "    global echiquier\n",
    "    echiquier.push(coup)  # Joue le coup\n",
    "\n",
    "    # Redessiner l'échiquier\n",
    "    dessiner_echiquier()\n",
    "\n",
    "    # Afficher les pièces après chaque coup\n",
    "    for case in chess.SQUARES:\n",
    "        piece = echiquier.piece_at(case)\n",
    "        if piece:\n",
    "            image_name = f\"{'w' if piece.color else 'b'}{piece.symbol().upper()}.png\"\n",
    "            dessiner_piece_image(os.path.join(chemin_images, image_name), chess.square_file(case), 7 - chess.square_rank(case))\n",
    "\n",
    "# Fonction pour charger une partie PGN\n",
    "import chess.pgn\n",
    "\n",
    "def charger_partie_pgn(fichier_pgn):\n",
    "    with open(fichier_pgn, \"r\") as pgn:\n",
    "        partie = chess.pgn.read_game(pgn)\n",
    "    return list(partie.mainline_moves())\n",
    "\n",
    "# Exemple d'utilisation : charge un fichier PGN et rejoue la partie\n",
    "fichier_pgn = \"Loowolf_vs_TelophileGOAT_2025.02.19.pgn\"  # Remplace par le chemin vers ton fichier PGN\n",
    "rejouer_partie(fichier_pgn)\n"
   ]
  },
  {
   "cell_type": "code",
   "execution_count": null,
   "metadata": {},
   "outputs": [],
   "source": [
    "\n",
    "\n"
   ]
  }
 ],
 "metadata": {
  "kernelspec": {
   "display_name": "Python 3",
   "language": "python",
   "name": "python3"
  },
  "language_info": {
   "codemirror_mode": {
    "name": "ipython",
    "version": 3
   },
   "file_extension": ".py",
   "mimetype": "text/x-python",
   "name": "python",
   "nbconvert_exporter": "python",
   "pygments_lexer": "ipython3",
   "version": "3.12.1"
  }
 },
 "nbformat": 4,
 "nbformat_minor": 2
}
