{
 "cells": [
  {
   "cell_type": "code",
   "execution_count": 20,
   "metadata": {},
   "outputs": [
    {
     "data": {
      "application/vnd.jupyter.widget-view+json": {
       "model_id": "db49e08665c54c71a3c3d65d7a6b76a5",
       "version_major": 2,
       "version_minor": 0
      },
      "text/plain": [
       "Canvas(height=400, width=400)"
      ]
     },
     "metadata": {},
     "output_type": "display_data"
    }
   ],
   "source": [
    "from ipycanvas import Canvas\n",
    "from IPython.display import display\n",
    "\n",
    "canvas = Canvas(width=400, height=400)\n",
    "\n",
    "def dessiner_echiquier():\n",
    "    taille_case = 50\n",
    "    for i in range(8):\n",
    "        for j in range(8):\n",
    "            couleur = 'white' if (i + j) % 2 == 0 else 'black'\n",
    "            canvas.fill_style = couleur\n",
    "            canvas.fill_rect(i * taille_case, j * taille_case, taille_case, taille_case)\n",
    "\n",
    "dessiner_echiquier()\n",
    "\n",
    "display(canvas)\n"
   ]
  },
  {
   "cell_type": "code",
   "execution_count": 1,
   "metadata": {},
   "outputs": [
    {
     "data": {
      "application/vnd.jupyter.widget-view+json": {
       "model_id": "c105c3eeedd94e61ba556cc723937b42",
       "version_major": 2,
       "version_minor": 0
      },
      "text/plain": [
       "Canvas(height=400, width=400)"
      ]
     },
     "execution_count": 1,
     "metadata": {},
     "output_type": "execute_result"
    }
   ],
   "source": [
    "from ipycanvas import Canvas\n",
    "\n",
    "# Crée un canvas pour dessiner\n",
    "canvas = Canvas(width=400, height=400)\n",
    "\n",
    "# Dessine un échiquier (comme précédemment)\n",
    "def dessiner_echiquier():\n",
    "    taille_case = 50\n",
    "    for i in range(8):\n",
    "        for j in range(8):\n",
    "            if (i + j) % 2 == 0:\n",
    "                couleur = 'white'\n",
    "            else:\n",
    "                couleur = 'black'\n",
    "            canvas.fill_style = couleur\n",
    "            canvas.fill_rect(i * taille_case, j * taille_case, taille_case, taille_case)\n",
    "\n",
    "dessiner_echiquier()\n",
    "\n",
    "# Ajouter un pion rouge sur l'échiquier avec un clic\n",
    "def on_mouse_down(x, y):\n",
    "    taille_case = 50\n",
    "    i = int(x // taille_case)\n",
    "    j = int(y // taille_case)\n",
    "    canvas.fill_style = 'red'\n",
    "    canvas.fill_rect(i * taille_case, j * taille_case, taille_case, taille_case)\n",
    "\n",
    "# Connecte l'événement de clic au canvas\n",
    "canvas.on_mouse_down(on_mouse_down)\n",
    "\n",
    "canvas\n",
    "\n"
   ]
  },
  {
   "cell_type": "code",
   "execution_count": 17,
   "metadata": {},
   "outputs": [
    {
     "data": {
      "application/vnd.jupyter.widget-view+json": {
       "model_id": "c105c3eeedd94e61ba556cc723937b42",
       "version_major": 2,
       "version_minor": 0
      },
      "text/plain": [
       "Canvas(height=400, width=400)"
      ]
     },
     "execution_count": 17,
     "metadata": {},
     "output_type": "execute_result"
    }
   ],
   "source": [
    "taille_case = 50\n",
    "\n",
    "def dessiner_echiquier():\n",
    "    taille_case = 50\n",
    "    for i in range(8):\n",
    "        for j in range(8):\n",
    "            if (i + j) % 2 == 0:\n",
    "                couleur = 'white'\n",
    "            else:\n",
    "                couleur = 'black'\n",
    "            canvas.fill_style = couleur\n",
    "            canvas.fill_rect(i * taille_case, j * taille_case, taille_case, taille_case)\n",
    "\n",
    "\n",
    "\n",
    "\n",
    "\n",
    "\n",
    "def dessiner_piece(piece, x, y):\n",
    "    # Centrer la pièce dans la case\n",
    "    canvas.fill_style = \"red\"  # Choisir une couleur ou une forme pour la pièce\n",
    "    canvas.fill_text(piece, x * taille_case + taille_case // 4, y * taille_case + taille_case // 1.5)\n",
    "\n",
    "dessiner_echiquier()\n",
    "\n",
    "dessiner_piece(\"K Blanc\", 3, 7)\n",
    "dessiner_piece(\"T noir\", 0, 0)\n",
    "dessiner_piece(\"T noir\", 7, 0)\n",
    "dessiner_piece(\"T blanc\", 0, 7)\n",
    "dessiner_piece(\"T blanc\", 7, 7)\n",
    "canvas\n",
    "    "
   ]
  },
  {
   "cell_type": "code",
   "execution_count": 18,
   "metadata": {},
   "outputs": [],
   "source": [
    "import os\n",
    "\n",
    "chemin_images = \"chess_images\"\n",
    "\n",
    "def dessiner_piece_image(image_path, x, y):\n",
    "    # Centrer l'image dans la case\n",
    "    canvas.draw_image(image_path, x * taille_case, y * taille_case, taille_case, taille_case)"
   ]
  },
  {
   "cell_type": "code",
   "execution_count": 21,
   "metadata": {},
   "outputs": [
    {
     "data": {
      "application/vnd.jupyter.widget-view+json": {
       "model_id": "dd3f231318a845c2a501f736f9565989",
       "version_major": 2,
       "version_minor": 0
      },
      "text/plain": [
       "Canvas(height=400, width=400)"
      ]
     },
     "execution_count": 21,
     "metadata": {},
     "output_type": "execute_result"
    }
   ],
   "source": [
    "import ipycanvas\n",
    "import ipywidgets as widgets\n",
    "import os\n",
    "\n",
    "# Dimensions de l'échiquier\n",
    "taille_case = 50\n",
    "echiquier_size = 8  # 8x8\n",
    "chemin_images = \"chess_images\"  # Remplace par ton chemin d'accès aux images des pièces\n",
    "\n",
    "# Création du canvas\n",
    "canvas = ipycanvas.Canvas(width=taille_case*echiquier_size, height=taille_case*echiquier_size)\n",
    "\n",
    "# Fonction pour dessiner l'échiquier\n",
    "def dessiner_echiquier():\n",
    "    for y in range(echiquier_size):\n",
    "        for x in range(echiquier_size):\n",
    "            color = \"white\" if (x + y) % 2 == 0 else \"brown\"\n",
    "            canvas.fill_style = color\n",
    "            canvas.fill_rect(x*taille_case, y*taille_case, taille_case, taille_case)\n",
    "\n",
    "# Fonction pour charger et dessiner une pièce\n",
    "def dessiner_piece_image(image_path, x, y):\n",
    "    with open(image_path, \"rb\") as file:\n",
    "        image = widgets.Image(value=file.read(), format='png')  # Chargement en tant qu'Image widget\n",
    "    canvas.draw_image(image, x * taille_case, y * taille_case, taille_case, taille_case)\n",
    "\n",
    "# Initialisation de l'échiquier\n",
    "dessiner_echiquier()\n",
    "\n",
    "# Charger et afficher des pièces\n",
    "dessiner_piece_image(os.path.join(chemin_images, 'bKN.png'), 6, 0)\n",
    "dessiner_piece_image(os.path.join(chemin_images, 'bKN.png'), 1, 0) \n",
    "dessiner_piece_image(os.path.join(chemin_images, 'bR.png'), 0, 0)  \n",
    "dessiner_piece_image(os.path.join(chemin_images, 'bR.png'), 7, 0) \n",
    "dessiner_piece_image(os.path.join(chemin_images, 'bB.png'), 2, 0)\n",
    "dessiner_piece_image(os.path.join(chemin_images, 'bB.png'), 5, 0)\n",
    "dessiner_piece_image(os.path.join(chemin_images, 'bK.png'), 4, 0)\n",
    "dessiner_piece_image(os.path.join(chemin_images, 'bQ.png'), 3, 0)\n",
    "\n",
    "# Afficher le canvas\n",
    "canvas\n",
    "\n"
   ]
  },
  {
   "cell_type": "code",
   "execution_count": null,
   "metadata": {},
   "outputs": [],
   "source": [
    "\n",
    "\n"
   ]
  },
  {
   "cell_type": "code",
   "execution_count": null,
   "metadata": {},
   "outputs": [],
   "source": []
  }
 ],
 "metadata": {
  "kernelspec": {
   "display_name": "Python 3",
   "language": "python",
   "name": "python3"
  },
  "language_info": {
   "codemirror_mode": {
    "name": "ipython",
    "version": 3
   },
   "file_extension": ".py",
   "mimetype": "text/x-python",
   "name": "python",
   "nbconvert_exporter": "python",
   "pygments_lexer": "ipython3",
   "version": "3.12.1"
  }
 },
 "nbformat": 4,
 "nbformat_minor": 2
}
