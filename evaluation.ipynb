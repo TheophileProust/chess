{
 "cells": [
  {
   "cell_type": "markdown",
   "metadata": {},
   "source": [
    "# BON CODE"
   ]
  },
  {
   "cell_type": "code",
   "execution_count": 41,
   "metadata": {},
   "outputs": [
    {
     "data": {
      "application/vnd.jupyter.widget-view+json": {
       "model_id": "55f7dad1577c46e5984d3ac5ab49ca82",
       "version_major": 2,
       "version_minor": 0
      },
      "text/plain": [
       "Canvas(height=400, width=400)"
      ]
     },
     "metadata": {},
     "output_type": "display_data"
    },
    {
     "data": {
      "application/vnd.jupyter.widget-view+json": {
       "model_id": "273089eb79ff4335b2105c8b6e0496d3",
       "version_major": 2,
       "version_minor": 0
      },
      "text/plain": [
       "Output()"
      ]
     },
     "metadata": {},
     "output_type": "display_data"
    },
    {
     "data": {
      "application/vnd.jupyter.widget-view+json": {
       "model_id": "0056805ec8eb4450ab31b91f21505d02",
       "version_major": 2,
       "version_minor": 0
      },
      "text/plain": [
       "Button(description='Coup suivant', style=ButtonStyle())"
      ]
     },
     "metadata": {},
     "output_type": "display_data"
    },
    {
     "data": {
      "application/vnd.jupyter.widget-view+json": {
       "model_id": "bd28c2d7101e46d3830ed8fb035b139e",
       "version_major": 2,
       "version_minor": 0
      },
      "text/plain": [
       "Button(description='Coup précédent', style=ButtonStyle())"
      ]
     },
     "metadata": {},
     "output_type": "display_data"
    },
    {
     "data": {
      "application/vnd.jupyter.widget-view+json": {
       "model_id": "d426b2af47c54079bad2d9c120e6ddeb",
       "version_major": 2,
       "version_minor": 0
      },
      "text/plain": [
       "Button(description='Afficher évaluation', style=ButtonStyle())"
      ]
     },
     "metadata": {},
     "output_type": "display_data"
    }
   ],
   "source": [
    "import ipycanvas\n",
    "import ipywidgets as widgets\n",
    "import os\n",
    "import chess\n",
    "import chess.pgn\n",
    "from stockfish import Stockfish\n",
    "import math\n",
    "\n",
    "# Configuration de l'échiquier\n",
    "taille_case = 50\n",
    "echiquier_size = 8\n",
    "chemin_images = \"chess_images\"\n",
    "canvas = ipycanvas.Canvas(width=taille_case * echiquier_size, height=taille_case * echiquier_size)\n",
    "display(canvas)\n",
    "\n",
    "stockfish = Stockfish(\"/usr/games/stockfish\")  \n",
    "stockfish.set_skill_level(10)\n",
    "\n",
    "echiquier = chess.Board()\n",
    "coups = []\n",
    "indice_coup = 0\n",
    "historique_positions = [echiquier.fen()]  \n",
    "\n",
    "annotation_image_widget = widgets.Output()  # Widget pour afficher l'image d'annotation\n",
    "display(annotation_image_widget)\n",
    "\n",
    "\n",
    "def charger_partie_pgn(fichier_pgn):\n",
    "    with open(fichier_pgn, \"r\") as pgn:\n",
    "        game = chess.pgn.read_game(pgn)\n",
    "    return list(game.mainline_moves())\n",
    "\n",
    "\n",
    "def dessiner_echiquier():\n",
    "    for y in range(echiquier_size):\n",
    "        for x in range(echiquier_size):\n",
    "            color = \"white\" if (x + y) % 2 == 0 else \"grey\"\n",
    "            canvas.fill_style = color\n",
    "            canvas.fill_rect(x * taille_case, y * taille_case, taille_case, taille_case)\n",
    "\n",
    "\n",
    "def dessiner_piece_image(image_path, x, y):\n",
    "    if os.path.exists(image_path):\n",
    "        with open(image_path, \"rb\") as file:\n",
    "            image = widgets.Image(value=file.read(), format='png')\n",
    "        canvas.draw_image(image, x * taille_case, y * taille_case, taille_case, taille_case)\n",
    "\n",
    "\n",
    "def mettre_a_jour_echiquier():\n",
    "    canvas.clear()\n",
    "    dessiner_echiquier()\n",
    "    for case in chess.SQUARES:\n",
    "        piece = echiquier.piece_at(case)\n",
    "        if piece:\n",
    "            x = chess.square_file(case)\n",
    "            y = 7 - chess.square_rank(case)\n",
    "            image_path = os.path.join(chemin_images, f\"{'w' if piece.color else 'b'}{piece.symbol().upper()}.png\")\n",
    "            dessiner_piece_image(image_path, x, y)\n",
    "\n",
    "\n",
    "def evaluer_coup(move, coup_index):\n",
    "    \"\"\"Analyse un coup avec Stockfish et retourne une annotation et le chemin de son image.\"\"\"\n",
    "    \n",
    "    temp_board = chess.Board()\n",
    "    \n",
    "    for i in range(coup_index):\n",
    "        temp_board.push(coups[i])\n",
    "    \n",
    "    if move not in temp_board.legal_moves:\n",
    "        return \"Coup illégal\", None  # Pas d'image pour un coup illégal\n",
    "   \n",
    "    stockfish.set_fen_position(temp_board.fen())\n",
    "    eval_avant = stockfish.get_evaluation().get('value', 0)\n",
    "    temp_board.push(move)\n",
    "    stockfish.set_fen_position(temp_board.fen())\n",
    "    eval_apres = stockfish.get_evaluation().get('value', 0)\n",
    "    variation = eval_apres - eval_avant\n",
    "\n",
    "    # Associer les annotations aux images avec les critères ajustés\n",
    "    if variation >= 300:\n",
    "        return \"Brillant\", \"annotations_images/brilliant.png\"  # Brilliant Move\n",
    "    elif 150 <= variation < 300:\n",
    "        return \"Très bon coup\", \"annotations_images/tres bon.png\"  # Very Good Move\n",
    "    elif 50 <= variation < 150:\n",
    "        return \"Meilleur coup\", \"annotations_images/meilleur coup.png\"  # Best Move\n",
    "    elif 0 <= variation < 50:\n",
    "        return \"!\", \"annotations_images/bon.png\"  # Good Move\n",
    "    elif -50 <= variation < 0:\n",
    "        return \"?!?\", \"annotations_images/imprecision.png\"  # Inaccuracy\n",
    "    elif -100 <= variation < -50:\n",
    "        return \"?\", \"annotations_images/interessant.png\"  # Mistake\n",
    "    elif variation < -100:\n",
    "        return \"??\", \"annotations_images/gaffe.png\"  # Blunder\n",
    "    else:\n",
    "        return \"=\",\n",
    "\n",
    "    \n",
    "def dessiner_annotation_sur_case(x, y, image_path):\n",
    "    \"\"\"Dessine une petite image d'annotation en haut à droite d'une case.\"\"\"\n",
    "    if os.path.exists(image_path):\n",
    "        with open(image_path, \"rb\") as file:\n",
    "            image = widgets.Image(value=file.read(), format='png')\n",
    "\n",
    "        # Taille réduite de l'image (ex: 20x20 pixels)\n",
    "        canvas.draw_image(image, x * taille_case + 30, y * taille_case, 20, 20)\n",
    "\n",
    "\n",
    "def afficher_annotation_image(image_path):\n",
    "    \"\"\"Affiche une image d'annotation en tant que widget en dessous de l'échiquier.\"\"\"\n",
    "    annotation_image_widget.clear_output()\n",
    "    \n",
    "    if image_path and os.path.exists(image_path):\n",
    "        with annotation_image_widget:\n",
    "            with open(image_path, \"rb\") as file:\n",
    "                image = widgets.Image(value=file.read(), format='png')\n",
    "            display(image)\n",
    "\n",
    "\n",
    "def afficher_eval_actuelle(b):\n",
    "    \"\"\"Affiche l'annotation sur la case et dessine une flèche vers le meilleur coup alternatif.\"\"\"\n",
    "    if indice_coup > 0:\n",
    "        move = coups[indice_coup - 1]\n",
    "        annotation, image_path = evaluer_coup(move, indice_coup - 1)\n",
    "\n",
    "        # Créer un échiquier temporaire et revenir au coup précédent\n",
    "        temp_board = chess.Board()\n",
    "        for i in range(indice_coup - 1):\n",
    "            temp_board.push(coups[i])\n",
    "\n",
    "        # Demander à Stockfish le meilleur coup à ce moment-là\n",
    "        stockfish.set_fen_position(temp_board.fen())\n",
    "        meilleur_coup = stockfish.get_best_move()\n",
    "        \n",
    "        if meilleur_coup:\n",
    "            meilleur_move = chess.Move.from_uci(meilleur_coup)\n",
    "\n",
    "            # Extraire les coordonnées\n",
    "            x1, y1 = chess.square_file(meilleur_move.from_square), 7 - chess.square_rank(meilleur_move.from_square)\n",
    "            x2, y2 = chess.square_file(meilleur_move.to_square), 7 - chess.square_rank(meilleur_move.to_square)\n",
    "\n",
    "            # Dessiner la flèche verte pour montrer le meilleur coup que le joueur aurait dû jouer\n",
    "            dessiner_fleche(x1, y1, x2, y2, couleur=\"green\")\n",
    "\n",
    "        # Afficher l'image de l'évaluation sur la case du coup joué\n",
    "        if image_path and os.path.exists(image_path):\n",
    "            case = move.to_square\n",
    "            x = chess.square_file(case)\n",
    "            y = 7 - chess.square_rank(case)\n",
    "            dessiner_annotation_sur_case(x, y, image_path)\n",
    "\n",
    "\n",
    "\n",
    "def dessiner_fleche(x1, y1, x2, y2, couleur=\"green\"):\n",
    "    \"\"\"Dessine une flèche entre deux cases.\"\"\"\n",
    "    canvas.stroke_style = couleur\n",
    "    canvas.line_width = 3\n",
    "    canvas.begin_path()\n",
    "    canvas.move_to(x1 * taille_case + taille_case // 2, y1 * taille_case + taille_case // 2)\n",
    "    canvas.line_to(x2 * taille_case + taille_case // 2, y2 * taille_case + taille_case // 2)\n",
    "    canvas.stroke()\n",
    "\n",
    "    # Dessiner la pointe de la flèche\n",
    "    angle = math.atan2((y2 - y1), (x2 - x1))\n",
    "    arrow_size = 10\n",
    "    for i in [-1, 1]:  # Deux segments pour former la pointe\n",
    "        end_x = x2 * taille_case + taille_case // 2 - arrow_size * math.cos(angle + i * math.pi / 6)\n",
    "        end_y = y2 * taille_case + taille_case // 2 - arrow_size * math.sin(angle + i * math.pi / 6)\n",
    "        canvas.begin_path()\n",
    "        canvas.move_to(x2 * taille_case + taille_case // 2, y2 * taille_case + taille_case // 2)\n",
    "        canvas.line_to(end_x, end_y)\n",
    "        canvas.stroke()\n",
    "\n",
    "\n",
    "\n",
    "def rejouer_partie(fichier_pgn):\n",
    "    global echiquier, coups, indice_coup, historique_positions\n",
    "    echiquier = chess.Board()\n",
    "    coups = charger_partie_pgn(fichier_pgn)\n",
    "    indice_coup = 0\n",
    "    historique_positions = [echiquier.fen()]\n",
    "    mettre_a_jour_echiquier()\n",
    "\n",
    "    bouton_suivant = widgets.Button(description=\"Coup suivant\")\n",
    "    bouton_suivant.on_click(jouer_prochain_coup)\n",
    "    bouton_precedent = widgets.Button(description=\"Coup précédent\")\n",
    "    bouton_precedent.on_click(jouer_ancien_coup)\n",
    "    bouton_evaluation = widgets.Button(description=\"Afficher évaluation\")\n",
    "    bouton_evaluation.on_click(afficher_eval_actuelle)\n",
    "\n",
    "    display(bouton_suivant, bouton_precedent, bouton_evaluation)\n",
    "\n",
    "\n",
    "def jouer_prochain_coup(b):\n",
    "    global echiquier, indice_coup\n",
    "    if indice_coup < len(coups):\n",
    "        echiquier.push(coups[indice_coup])\n",
    "        historique_positions.append(echiquier.fen())\n",
    "        indice_coup += 1\n",
    "        mettre_a_jour_echiquier()\n",
    "\n",
    "\n",
    "def jouer_ancien_coup(b):\n",
    "    global echiquier, indice_coup\n",
    "    if indice_coup > 0:\n",
    "        echiquier = chess.Board(historique_positions[indice_coup - 1])\n",
    "        indice_coup -= 1\n",
    "        mettre_a_jour_echiquier()\n",
    "\n",
    "\n",
    "# Charger la partie\n",
    "rejouer_partie(\"Loowolf_vs_TelophileGOAT_2025.02.19.pgn\")\n"
   ]
  },
  {
   "cell_type": "code",
   "execution_count": null,
   "metadata": {},
   "outputs": [],
   "source": []
  }
 ],
 "metadata": {
  "kernelspec": {
   "display_name": "Python 3",
   "language": "python",
   "name": "python3"
  },
  "language_info": {
   "codemirror_mode": {
    "name": "ipython",
    "version": 3
   },
   "file_extension": ".py",
   "mimetype": "text/x-python",
   "name": "python",
   "nbconvert_exporter": "python",
   "pygments_lexer": "ipython3",
   "version": "3.12.1"
  }
 },
 "nbformat": 4,
 "nbformat_minor": 2
}
